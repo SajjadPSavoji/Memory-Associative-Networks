{
 "cells": [
  {
   "cell_type": "markdown",
   "metadata": {},
   "source": [
    "# NNDL HW3\n",
    "## sajjad pakdaman savoji\n",
    "### 810195517"
   ]
  },
  {
   "cell_type": "markdown",
   "metadata": {},
   "source": [
    "# Q2-1"
   ]
  },
  {
   "cell_type": "code",
   "execution_count": 2,
   "metadata": {},
   "outputs": [],
   "source": [
    "import numpy as np\n",
    "import matplotlib.pyplot as plt\n",
    "import copy"
   ]
  },
  {
   "cell_type": "code",
   "execution_count": 3,
   "metadata": {},
   "outputs": [],
   "source": [
    "def sgn(x):\n",
    "    return 2*(x>=0) - 1"
   ]
  },
  {
   "cell_type": "code",
   "execution_count": 21,
   "metadata": {},
   "outputs": [],
   "source": [
    "A = np.array([1, 1, 1, -1])\n",
    "A = A.reshape(-1, 1)"
   ]
  },
  {
   "cell_type": "code",
   "execution_count": 22,
   "metadata": {},
   "outputs": [],
   "source": [
    "WA = np.matmul(A, A.T) - np.eye(len(A) ,dtype='int')\n",
    "W = WA"
   ]
  },
  {
   "cell_type": "code",
   "execution_count": 23,
   "metadata": {},
   "outputs": [
    {
     "output_type": "execute_result",
     "data": {
      "text/plain": "array([[ 1],\n       [ 1],\n       [ 1],\n       [-1]])"
     },
     "metadata": {},
     "execution_count": 23
    }
   ],
   "source": [
    "apred = sgn(np.matmul(A.T, W)).T\n",
    "apred"
   ]
  },
  {
   "cell_type": "markdown",
   "metadata": {},
   "source": [
    "# Q2-2"
   ]
  },
  {
   "cell_type": "code",
   "execution_count": 24,
   "metadata": {},
   "outputs": [],
   "source": [
    "B  = np.array([1, 1, -1, 1]).reshape(-1, 1)\n",
    "WB = np.matmul(B, B.T) - np.eye(len(B) ,dtype='int')\n",
    "W  += WB"
   ]
  },
  {
   "cell_type": "code",
   "execution_count": 25,
   "metadata": {},
   "outputs": [
    {
     "output_type": "execute_result",
     "data": {
      "text/plain": "array([[ 1],\n       [ 1],\n       [ 1],\n       [-1]])"
     },
     "metadata": {},
     "execution_count": 25
    }
   ],
   "source": [
    "apred = sgn(np.matmul(A.T, W)).T\n",
    "apred"
   ]
  },
  {
   "cell_type": "code",
   "execution_count": 26,
   "metadata": {},
   "outputs": [
    {
     "output_type": "execute_result",
     "data": {
      "text/plain": "array([[ 1],\n       [ 1],\n       [-1],\n       [ 1]])"
     },
     "metadata": {},
     "execution_count": 26
    }
   ],
   "source": [
    "bpred = sgn(np.matmul(B.T, W)).T\n",
    "bpred"
   ]
  },
  {
   "cell_type": "markdown",
   "metadata": {},
   "source": [
    "# Q2-3"
   ]
  },
  {
   "cell_type": "code",
   "execution_count": 27,
   "metadata": {},
   "outputs": [],
   "source": [
    "C  = np.array([1, -1, 1, 1]).reshape(-1, 1)\n",
    "WC = np.matmul(C, C.T) - np.eye(len(C) ,dtype='int')\n",
    "W  += WC"
   ]
  },
  {
   "cell_type": "code",
   "execution_count": 28,
   "metadata": {},
   "outputs": [
    {
     "output_type": "execute_result",
     "data": {
      "text/plain": "array([[ 1],\n       [ 1],\n       [ 1],\n       [-1]])"
     },
     "metadata": {},
     "execution_count": 28
    }
   ],
   "source": [
    "apred = sgn(np.matmul(A.T, W)).T\n",
    "apred"
   ]
  },
  {
   "cell_type": "code",
   "execution_count": 29,
   "metadata": {},
   "outputs": [
    {
     "output_type": "execute_result",
     "data": {
      "text/plain": "array([[ 1],\n       [ 1],\n       [-1],\n       [ 1]])"
     },
     "metadata": {},
     "execution_count": 29
    }
   ],
   "source": [
    "bpred = sgn(np.matmul(B.T, W)).T\n",
    "bpred"
   ]
  },
  {
   "cell_type": "code",
   "execution_count": 30,
   "metadata": {},
   "outputs": [
    {
     "output_type": "execute_result",
     "data": {
      "text/plain": "array([[ 1],\n       [-1],\n       [ 1],\n       [ 1]])"
     },
     "metadata": {},
     "execution_count": 30
    }
   ],
   "source": [
    "cpred = sgn(np.matmul(C.T, W)).T\n",
    "cpred"
   ]
  },
  {
   "cell_type": "markdown",
   "metadata": {},
   "source": [
    "# Q2-4"
   ]
  },
  {
   "cell_type": "code",
   "execution_count": 32,
   "metadata": {},
   "outputs": [],
   "source": [
    "D  = np.array([-1, 1, 1, 1]).reshape(-1, 1)\n",
    "WD = np.matmul(D, D.T) - np.eye(len(D) ,dtype='int')\n",
    "W  += WD"
   ]
  },
  {
   "cell_type": "code",
   "execution_count": 33,
   "metadata": {},
   "outputs": [
    {
     "output_type": "execute_result",
     "data": {
      "text/plain": "array([[1],\n       [1],\n       [1],\n       [1]])"
     },
     "metadata": {},
     "execution_count": 33
    }
   ],
   "source": [
    "apred = sgn(np.matmul(A.T, W)).T\n",
    "apred"
   ]
  },
  {
   "cell_type": "code",
   "execution_count": 34,
   "metadata": {},
   "outputs": [
    {
     "output_type": "execute_result",
     "data": {
      "text/plain": "array([[1],\n       [1],\n       [1],\n       [1]])"
     },
     "metadata": {},
     "execution_count": 34
    }
   ],
   "source": [
    "bpred = sgn(np.matmul(B.T, W)).T\n",
    "bpred"
   ]
  },
  {
   "cell_type": "code",
   "execution_count": 35,
   "metadata": {},
   "outputs": [
    {
     "output_type": "execute_result",
     "data": {
      "text/plain": "array([[1],\n       [1],\n       [1],\n       [1]])"
     },
     "metadata": {},
     "execution_count": 35
    }
   ],
   "source": [
    "cpred = sgn(np.matmul(C.T, W)).T\n",
    "cpred"
   ]
  },
  {
   "cell_type": "code",
   "execution_count": 36,
   "metadata": {},
   "outputs": [
    {
     "output_type": "execute_result",
     "data": {
      "text/plain": "array([[1],\n       [1],\n       [1],\n       [1]])"
     },
     "metadata": {},
     "execution_count": 36
    }
   ],
   "source": [
    "dpred = sgn(np.matmul(D.T, W)).T\n",
    "dpred"
   ]
  },
  {
   "cell_type": "code",
   "execution_count": null,
   "metadata": {},
   "outputs": [],
   "source": []
  }
 ],
 "metadata": {
  "kernelspec": {
   "display_name": "Python 3",
   "language": "python",
   "name": "python3"
  },
  "language_info": {
   "codemirror_mode": {
    "name": "ipython",
    "version": 3
   },
   "file_extension": ".py",
   "mimetype": "text/x-python",
   "name": "python",
   "nbconvert_exporter": "python",
   "pygments_lexer": "ipython3",
   "version": "3.6.9-final"
  }
 },
 "nbformat": 4,
 "nbformat_minor": 4
}