{
 "cells": [
  {
   "cell_type": "markdown",
   "metadata": {},
   "source": [
    "# NNDL HW3\n",
    "## sajjad pakdaman savoji\n",
    "### 810195517"
   ]
  },
  {
   "cell_type": "markdown",
   "metadata": {},
   "source": [
    "# Q3-1"
   ]
  },
  {
   "cell_type": "code",
   "execution_count": 1,
   "metadata": {},
   "outputs": [],
   "source": [
    "import numpy as np\n",
    "import matplotlib.pyplot as plt\n",
    "import copy"
   ]
  },
  {
   "cell_type": "code",
   "execution_count": 2,
   "metadata": {},
   "outputs": [],
   "source": [
    "def sgn(x):\n",
    "    return 2*(x>=0) - 1"
   ]
  },
  {
   "cell_type": "code",
   "execution_count": 3,
   "metadata": {},
   "outputs": [],
   "source": [
    "def psgn(x):\n",
    "    y = 2*(x>=0) - 1\n",
    "    y[x == 0] = x[x==0]\n",
    "    return y"
   ]
  },
  {
   "cell_type": "code",
   "execution_count": 24,
   "metadata": {},
   "outputs": [],
   "source": [
    "def ppsgn(x , z):\n",
    "    y = 2*(x>=0) - 1\n",
    "    y[x == 0] = z[x==0]\n",
    "    return y"
   ]
  },
  {
   "cell_type": "code",
   "execution_count": 30,
   "metadata": {},
   "outputs": [],
   "source": [
    "A = np.array([1, 1, 1, -1], dtype='float')\n",
    "A = A.reshape(-1, 1)"
   ]
  },
  {
   "cell_type": "code",
   "execution_count": 37,
   "metadata": {},
   "outputs": [],
   "source": [
    "WA = np.matmul(A, A.T) - np.eye(len(A) ,dtype='float')\n",
    "W = WA"
   ]
  },
  {
   "cell_type": "code",
   "execution_count": 38,
   "metadata": {},
   "outputs": [
    {
     "data": {
      "text/plain": [
       "array([[ 1],\n",
       "       [ 1],\n",
       "       [ 1],\n",
       "       [-1]])"
      ]
     },
     "execution_count": 38,
     "metadata": {},
     "output_type": "execute_result"
    }
   ],
   "source": [
    "apred = sgn(np.matmul(A.T, W)).T\n",
    "apred"
   ]
  },
  {
   "cell_type": "markdown",
   "metadata": {},
   "source": [
    "# Q3-2"
   ]
  },
  {
   "cell_type": "code",
   "execution_count": 39,
   "metadata": {},
   "outputs": [],
   "source": [
    "m1 = np.array([0, 0, 0, -1], dtype='float').reshape(-1, 1)\n",
    "m2 = np.array([1, 0, 0, 0] , dtype='float').reshape(-1, 1)\n",
    "m3 = np.array([0, 1, 0, 0] , dtype='float').reshape(-1, 1)\n",
    "m4 = np.array([0, 0, 1, 0] , dtype='float').reshape(-1, 1)"
   ]
  },
  {
   "cell_type": "code",
   "execution_count": 40,
   "metadata": {},
   "outputs": [
    {
     "name": "stdout",
     "output_type": "stream",
     "text": [
      "[[ 1]\n",
      " [ 1]\n",
      " [ 1]\n",
      " [-1]]\n"
     ]
    }
   ],
   "source": [
    "pred = ppsgn(np.matmul(m1.T, W).T , m1)\n",
    "print(pred)"
   ]
  },
  {
   "cell_type": "code",
   "execution_count": 41,
   "metadata": {},
   "outputs": [
    {
     "data": {
      "text/plain": [
       "array([[ 1],\n",
       "       [ 1],\n",
       "       [ 1],\n",
       "       [-1]])"
      ]
     },
     "execution_count": 41,
     "metadata": {},
     "output_type": "execute_result"
    }
   ],
   "source": [
    "pred = ppsgn(np.matmul(m2.T, W).T, m2)\n",
    "pred"
   ]
  },
  {
   "cell_type": "code",
   "execution_count": 42,
   "metadata": {},
   "outputs": [
    {
     "data": {
      "text/plain": [
       "array([[ 1],\n",
       "       [ 1],\n",
       "       [ 1],\n",
       "       [-1]])"
      ]
     },
     "execution_count": 42,
     "metadata": {},
     "output_type": "execute_result"
    }
   ],
   "source": [
    "pred = ppsgn(np.matmul(m3.T, W).T, m3)\n",
    "pred"
   ]
  },
  {
   "cell_type": "code",
   "execution_count": 43,
   "metadata": {},
   "outputs": [
    {
     "data": {
      "text/plain": [
       "array([[ 1],\n",
       "       [ 1],\n",
       "       [ 1],\n",
       "       [-1]])"
      ]
     },
     "execution_count": 43,
     "metadata": {},
     "output_type": "execute_result"
    }
   ],
   "source": [
    "pred = ppsgn(np.matmul(m4.T, W).T , m4)\n",
    "pred"
   ]
  },
  {
   "cell_type": "markdown",
   "metadata": {},
   "source": [
    "# Q3-3"
   ]
  },
  {
   "cell_type": "code",
   "execution_count": 44,
   "metadata": {},
   "outputs": [],
   "source": [
    "n1 = np.array([-1, -1, -1, -1]).reshape(-1, 1)\n",
    "n2 = np.array([1, -1, -1, 1]).reshape(-1, 1)\n",
    "n3 = np.array([-1, 1, -1, 1]).reshape(-1, 1)\n",
    "n4 = np.array([-1, -1, 1, 1]).reshape(-1, 1)"
   ]
  },
  {
   "cell_type": "code",
   "execution_count": 46,
   "metadata": {},
   "outputs": [
    {
     "name": "stdout",
     "output_type": "stream",
     "text": [
      "[[-1]\n",
      " [-1]\n",
      " [-1]\n",
      " [ 1]]\n",
      "[[-1]\n",
      " [-1]\n",
      " [-1]\n",
      " [ 1]]\n"
     ]
    }
   ],
   "source": [
    "pred = ppsgn(np.matmul(n1.T, W).T , n1)\n",
    "print(pred)\n",
    "pred = ppsgn(np.matmul(pred.T, W).T, pred[::])\n",
    "print(pred)"
   ]
  },
  {
   "cell_type": "code",
   "execution_count": 47,
   "metadata": {},
   "outputs": [
    {
     "data": {
      "text/plain": [
       "array([[-1],\n",
       "       [-1],\n",
       "       [-1],\n",
       "       [ 1]])"
      ]
     },
     "execution_count": 47,
     "metadata": {},
     "output_type": "execute_result"
    }
   ],
   "source": [
    "pred = sgn(np.matmul(n2.T, W)).T\n",
    "pred"
   ]
  },
  {
   "cell_type": "code",
   "execution_count": 48,
   "metadata": {},
   "outputs": [
    {
     "data": {
      "text/plain": [
       "array([[-1],\n",
       "       [-1],\n",
       "       [-1],\n",
       "       [ 1]])"
      ]
     },
     "execution_count": 48,
     "metadata": {},
     "output_type": "execute_result"
    }
   ],
   "source": [
    "pred = sgn(np.matmul(n3.T, W)).T\n",
    "pred"
   ]
  },
  {
   "cell_type": "code",
   "execution_count": 49,
   "metadata": {},
   "outputs": [
    {
     "data": {
      "text/plain": [
       "array([[-1],\n",
       "       [-1],\n",
       "       [-1],\n",
       "       [ 1]])"
      ]
     },
     "execution_count": 49,
     "metadata": {},
     "output_type": "execute_result"
    }
   ],
   "source": [
    "pred = sgn(np.matmul(n4.T, W)).T\n",
    "pred"
   ]
  },
  {
   "cell_type": "markdown",
   "metadata": {},
   "source": [
    "# Q3-4 missing"
   ]
  },
  {
   "cell_type": "code",
   "execution_count": 50,
   "metadata": {},
   "outputs": [
    {
     "name": "stdout",
     "output_type": "stream",
     "text": [
      "[1 0 2 3]\n",
      "[[ 0.]\n",
      " [ 1.]\n",
      " [ 0.]\n",
      " [-1.]]\n",
      "[[ 1.]\n",
      " [ 1.]\n",
      " [ 0.]\n",
      " [-1.]]\n",
      "[[ 1.]\n",
      " [ 1.]\n",
      " [ 1.]\n",
      " [-1.]]\n",
      "[[ 1.]\n",
      " [ 1.]\n",
      " [ 1.]\n",
      " [-1.]]\n"
     ]
    }
   ],
   "source": [
    "mask = np.array([0, 1, 2, 3])\n",
    "np.random.shuffle(mask)\n",
    "print(mask)\n",
    "m1p = copy.deepcopy(m1)\n",
    "for m in mask:\n",
    "    pred = psgn(np.matmul(m1p.T, W) + m1p.T).T\n",
    "    m1p[m] = pred[m]\n",
    "    print(m1p)"
   ]
  },
  {
   "cell_type": "code",
   "execution_count": 51,
   "metadata": {},
   "outputs": [
    {
     "name": "stdout",
     "output_type": "stream",
     "text": [
      "[3 0 2 1]\n",
      "[[ 1.]\n",
      " [ 0.]\n",
      " [ 0.]\n",
      " [-1.]]\n",
      "[[ 1.]\n",
      " [ 0.]\n",
      " [ 0.]\n",
      " [-1.]]\n",
      "[[ 1.]\n",
      " [ 0.]\n",
      " [ 1.]\n",
      " [-1.]]\n",
      "[[ 1.]\n",
      " [ 1.]\n",
      " [ 1.]\n",
      " [-1.]]\n"
     ]
    }
   ],
   "source": [
    "mask = np.array([0, 1, 2, 3])\n",
    "np.random.shuffle(mask)\n",
    "print(mask)\n",
    "m1p = copy.deepcopy(m2)\n",
    "for m in mask:\n",
    "    pred = psgn(np.matmul(m1p.T, W) + m1p.T).T\n",
    "    m1p[m] = pred[m]\n",
    "    print(m1p)"
   ]
  },
  {
   "cell_type": "code",
   "execution_count": 52,
   "metadata": {},
   "outputs": [
    {
     "name": "stdout",
     "output_type": "stream",
     "text": [
      "[0 2 1 3]\n",
      "[[1.]\n",
      " [1.]\n",
      " [0.]\n",
      " [0.]]\n",
      "[[1.]\n",
      " [1.]\n",
      " [1.]\n",
      " [0.]]\n",
      "[[1.]\n",
      " [1.]\n",
      " [1.]\n",
      " [0.]]\n",
      "[[ 1.]\n",
      " [ 1.]\n",
      " [ 1.]\n",
      " [-1.]]\n"
     ]
    }
   ],
   "source": [
    "mask = np.array([0, 1, 2, 3])\n",
    "np.random.shuffle(mask)\n",
    "print(mask)\n",
    "m1p = copy.deepcopy(m3)\n",
    "for m in mask:\n",
    "    pred = psgn(np.matmul(m1p.T, W) + m1p.T).T\n",
    "    m1p[m] = pred[m]\n",
    "    print(m1p)"
   ]
  },
  {
   "cell_type": "code",
   "execution_count": 53,
   "metadata": {},
   "outputs": [
    {
     "name": "stdout",
     "output_type": "stream",
     "text": [
      "[2 3 0 1]\n",
      "[[0.]\n",
      " [0.]\n",
      " [1.]\n",
      " [0.]]\n",
      "[[ 0.]\n",
      " [ 0.]\n",
      " [ 1.]\n",
      " [-1.]]\n",
      "[[ 1.]\n",
      " [ 0.]\n",
      " [ 1.]\n",
      " [-1.]]\n",
      "[[ 1.]\n",
      " [ 1.]\n",
      " [ 1.]\n",
      " [-1.]]\n"
     ]
    }
   ],
   "source": [
    "mask = np.array([0, 1, 2, 3])\n",
    "np.random.shuffle(mask)\n",
    "print(mask)\n",
    "m1p = copy.deepcopy(m4)\n",
    "for m in mask:\n",
    "    pred = psgn(np.matmul(m1p.T, W) + m1p.T).T\n",
    "    m1p[m] = pred[m]\n",
    "    print(m1p)"
   ]
  },
  {
   "cell_type": "markdown",
   "metadata": {},
   "source": [
    "# Q3-4 noise"
   ]
  },
  {
   "cell_type": "code",
   "execution_count": 42,
   "metadata": {},
   "outputs": [
    {
     "name": "stdout",
     "output_type": "stream",
     "text": [
      "[3 1 0 2]\n",
      "[[-1]\n",
      " [-1]\n",
      " [-1]\n",
      " [ 1]]\n",
      "[[-1]\n",
      " [-1]\n",
      " [-1]\n",
      " [ 1]]\n",
      "[[-1]\n",
      " [-1]\n",
      " [-1]\n",
      " [ 1]]\n",
      "[[-1]\n",
      " [-1]\n",
      " [-1]\n",
      " [ 1]]\n"
     ]
    }
   ],
   "source": [
    "mask = np.array([0, 1, 2, 3])\n",
    "np.random.shuffle(mask)\n",
    "print(mask)\n",
    "m1p = copy.deepcopy(n1)\n",
    "for m in mask:\n",
    "    pred = psgn(np.matmul(m1p.T, W) + m1p.T).T\n",
    "    m1p[m] = pred[m]\n",
    "    print(m1p)"
   ]
  },
  {
   "cell_type": "code",
   "execution_count": 43,
   "metadata": {},
   "outputs": [
    {
     "name": "stdout",
     "output_type": "stream",
     "text": [
      "[0 3 2 1]\n",
      "[[-1]\n",
      " [-1]\n",
      " [-1]\n",
      " [ 1]]\n",
      "[[-1]\n",
      " [-1]\n",
      " [-1]\n",
      " [ 1]]\n",
      "[[-1]\n",
      " [-1]\n",
      " [-1]\n",
      " [ 1]]\n",
      "[[-1]\n",
      " [-1]\n",
      " [-1]\n",
      " [ 1]]\n"
     ]
    }
   ],
   "source": [
    "mask = np.array([0, 1, 2, 3])\n",
    "np.random.shuffle(mask)\n",
    "print(mask)\n",
    "m1p = copy.deepcopy(n2)\n",
    "for m in mask:\n",
    "    pred = psgn(np.matmul(m1p.T, W) + m1p.T).T\n",
    "    m1p[m] = pred[m]\n",
    "    print(m1p)"
   ]
  },
  {
   "cell_type": "code",
   "execution_count": 44,
   "metadata": {},
   "outputs": [
    {
     "name": "stdout",
     "output_type": "stream",
     "text": [
      "[2 3 1 0]\n",
      "[[-1]\n",
      " [ 1]\n",
      " [-1]\n",
      " [ 1]]\n",
      "[[-1]\n",
      " [ 1]\n",
      " [-1]\n",
      " [ 1]]\n",
      "[[-1]\n",
      " [-1]\n",
      " [-1]\n",
      " [ 1]]\n",
      "[[-1]\n",
      " [-1]\n",
      " [-1]\n",
      " [ 1]]\n"
     ]
    }
   ],
   "source": [
    "mask = np.array([0, 1, 2, 3])\n",
    "np.random.shuffle(mask)\n",
    "print(mask)\n",
    "m1p = copy.deepcopy(n3)\n",
    "for m in mask:\n",
    "    pred = psgn(np.matmul(m1p.T, W) + m1p.T).T\n",
    "    m1p[m] = pred[m]\n",
    "    print(m1p)"
   ]
  },
  {
   "cell_type": "code",
   "execution_count": 45,
   "metadata": {},
   "outputs": [
    {
     "name": "stdout",
     "output_type": "stream",
     "text": [
      "[1 0 2 3]\n",
      "[[-1]\n",
      " [-1]\n",
      " [ 1]\n",
      " [ 1]]\n",
      "[[-1]\n",
      " [-1]\n",
      " [ 1]\n",
      " [ 1]]\n",
      "[[-1]\n",
      " [-1]\n",
      " [-1]\n",
      " [ 1]]\n",
      "[[-1]\n",
      " [-1]\n",
      " [-1]\n",
      " [ 1]]\n"
     ]
    }
   ],
   "source": [
    "mask = np.array([0, 1, 2, 3])\n",
    "np.random.shuffle(mask)\n",
    "print(mask)\n",
    "m1p = copy.deepcopy(n4)\n",
    "for m in mask:\n",
    "    pred = psgn(np.matmul(m1p.T, W) + m1p.T).T\n",
    "    m1p[m] = pred[m]\n",
    "    print(m1p)"
   ]
  },
  {
   "cell_type": "code",
   "execution_count": null,
   "metadata": {},
   "outputs": [],
   "source": []
  }
 ],
 "metadata": {
  "kernelspec": {
   "display_name": "Python 3",
   "language": "python",
   "name": "python3"
  },
  "language_info": {
   "codemirror_mode": {
    "name": "ipython",
    "version": 3
   },
   "file_extension": ".py",
   "mimetype": "text/x-python",
   "name": "python",
   "nbconvert_exporter": "python",
   "pygments_lexer": "ipython3",
   "version": "3.6.9"
  }
 },
 "nbformat": 4,
 "nbformat_minor": 4
}
